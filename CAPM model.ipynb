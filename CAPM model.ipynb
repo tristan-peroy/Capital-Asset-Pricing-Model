{
 "cells": [
  {
   "cell_type": "code",
   "execution_count": 2,
   "metadata": {},
   "outputs": [],
   "source": [
    "#TASK #1: UNDERSTAND THE THEORY AND INTUITION BEHIND CAPITAL ASSET PRICING MODEL (CAPM)\n"
   ]
  },
  {
   "cell_type": "code",
   "execution_count": 3,
   "metadata": {},
   "outputs": [],
   "source": [
    "#TASK #2: IMPORT LIBRARIES/DATASETS AND PERFORM EXPLORATORY DATA ANALYSIS"
   ]
  },
  {
   "cell_type": "code",
   "execution_count": null,
   "metadata": {},
   "outputs": [],
   "source": [
    "import pandas as pd\n",
    "import seaborn as sns\n",
    "import plotly.express as px\n",
    "from copy import copy\n",
    "import matplotlib.pyplot as plt\n",
    "import numpy as np\n",
    "import plotly.figure_factory as ff\n",
    "import plotly.graph_objects as go"
   ]
  },
  {
   "cell_type": "code",
   "execution_count": null,
   "metadata": {},
   "outputs": [],
   "source": [
    "from jupyterthemes import jtplot # Jupyter theme\n",
    "jtplot.style(theme = 'monokai', context= 'notebook', ticks= True, grid= False)"
   ]
  },
  {
   "cell_type": "code",
   "execution_count": null,
   "metadata": {},
   "outputs": [],
   "source": [
    "# Read the stock data file\n",
    "stocks_df=pd.read_csv('stocks_dataset.csv')\n",
    "stocks_df"
   ]
  },
  {
   "cell_type": "code",
   "execution_count": null,
   "metadata": {},
   "outputs": [],
   "source": [
    "# Getting dataframe info\n",
    "stocks_df.info()"
   ]
  },
  {
   "cell_type": "code",
   "execution_count": null,
   "metadata": {},
   "outputs": [],
   "source": [
    "stocks_df.describe()"
   ]
  },
  {
   "cell_type": "code",
   "execution_count": null,
   "metadata": {},
   "outputs": [],
   "source": [
    "# TASK #3: PERFORM DATA SCALING "
   ]
  },
  {
   "cell_type": "code",
   "execution_count": null,
   "metadata": {},
   "outputs": [],
   "source": [
    "# Function to normalize the prices based on the initial price\n",
    "def normalize(df):\n",
    "    x=df.copy()\n",
    "    for i in x.columns[1:]:\n",
    "        x[i]=x[i]/x[i][0]\n",
    "    return x"
   ]
  },
  {
   "cell_type": "code",
   "execution_count": null,
   "metadata": {},
   "outputs": [],
   "source": [
    "normalize(stocks_df)"
   ]
  },
  {
   "cell_type": "code",
   "execution_count": null,
   "metadata": {},
   "outputs": [],
   "source": [
    "#TASK #4: PERFORM DATA VISUALIZATION\n",
    "# Function to plot interactive plot"
   ]
  },
  {
   "cell_type": "code",
   "execution_count": null,
   "metadata": {},
   "outputs": [],
   "source": [
    "# Function to plot interactive plot\n",
    "def interactive_plot(df,title):\n",
    "    fig=px.line(title=title)\n",
    "    for i in df.columns[1:]:\n",
    "        fig.add_scatter(x=df['Date'],y=df[i],name=i)\n",
    "    fig.show()"
   ]
  },
  {
   "cell_type": "code",
   "execution_count": null,
   "metadata": {},
   "outputs": [],
   "source": [
    "# Plot interactive chart\n",
    "interactive_plot(stocks_df,'Prices')"
   ]
  },
  {
   "cell_type": "code",
   "execution_count": null,
   "metadata": {},
   "outputs": [],
   "source": [
    "# Plot normalized interactive chart\n",
    "interactive_plot(normalize(stocks_df),'Normalized Prices')"
   ]
  },
  {
   "cell_type": "code",
   "execution_count": null,
   "metadata": {},
   "outputs": [],
   "source": [
    "#TASK #5: DEVELOP A FUNCTION TO CALCULATE DAILY RETURNS"
   ]
  },
  {
   "cell_type": "code",
   "execution_count": null,
   "metadata": {},
   "outputs": [],
   "source": [
    "# Function to calculate the daily returns \n",
    "def daily_returns(df):\n",
    "    df_daily_return=df.copy()\n",
    "    for i in df.columns[1:]:\n",
    "        for j in range(1,len(df)):\n",
    "            df_daily_return[i][j]=((df[i][j]-df[i][j-1])/df[i][j-1])*100\n",
    "        df_daily_return[i][0]=0\n",
    "    return df_daily_return"
   ]
  },
  {
   "cell_type": "code",
   "execution_count": null,
   "metadata": {},
   "outputs": [],
   "source": [
    "stocks_daily_return=daily_returns(stocks_df)\n",
    "stocks_daily_return"
   ]
  },
  {
   "cell_type": "code",
   "execution_count": null,
   "metadata": {},
   "outputs": [],
   "source": [
    "#TASK #6: CALCULATE BETA FOR TESLA STOCK\n",
    "# Select any stock, let's say Apple "
   ]
  },
  {
   "cell_type": "code",
   "execution_count": null,
   "metadata": {},
   "outputs": [],
   "source": [
    "# Select any stock, let's say Apple \n",
    "stocks_daily_return['TSLA']"
   ]
  },
  {
   "cell_type": "code",
   "execution_count": null,
   "metadata": {},
   "outputs": [],
   "source": [
    "# Select the S&P500 (Market)\n",
    "stocks_daily_return['sp500']"
   ]
  },
  {
   "cell_type": "code",
   "execution_count": null,
   "metadata": {},
   "outputs": [],
   "source": [
    "# plot a scatter plot between the selected stock and the S&P500 (Market)\n",
    "stocks_daily_return.plot(kind='scatter',x='sp500',y='TSLA',color='w')"
   ]
  },
  {
   "cell_type": "code",
   "execution_count": null,
   "metadata": {},
   "outputs": [],
   "source": [
    "# Fit a polynomial between the selected stock and the S&P500 (Poly with order = 1 is a straight line)\n",
    "\n",
    "# beta represents the slope of the line regression line (market return vs. stock return). \n",
    "# Beta is a measure of the volatility or systematic risk of a security or portfolio compared to the entire market (S&P500) \n",
    "# Beta is used in the CAPM and describes the relationship between systematic risk and expected return for assets \n",
    "\n",
    "# Beta = 1.0, this indicates that its price activity is strongly correlated with the market. \n",
    "# Beta < 1, indicates that the security is theoretically less volatile than the market (Ex: Utility stocks). If the stock is included, this will make the portfolio less risky compared to the same portfolio without the stock.\n",
    "# Beta > 1, indicates that the security's price is more volatile than the market. For instance, Tesla stock beta is 1.26 indicating that it's 26% more volatile than the market. \n",
    "# Tech stocks generally have higher betas than S&P500 but they also have excess returns\n",
    "# MGM is 65% more volatile than the S&P500!\n",
    "\n",
    "\n",
    "beta, alpha = np.polyfit(stocks_daily_return['sp500'], stocks_daily_return['TSLA'], 1)\n",
    "print('Beta for {} stock is = {} and alpha is = {}'.format('TSLA', beta, alpha))  "
   ]
  },
  {
   "cell_type": "code",
   "execution_count": null,
   "metadata": {},
   "outputs": [],
   "source": [
    "# Fit a polynomial between the selected stock and the S&P500 (Poly with order = 1 is a straight line)\n",
    "\n",
    "# beta represents the slope of the line regression line (market return vs. stock return). \n",
    "# Beta is a measure of the volatility or systematic risk of a security or portfolio compared to the entire market (S&P500) \n",
    "# Beta is used in the CAPM and describes the relationship between systematic risk and expected return for assets \n",
    "\n",
    "# Beta = 1.0, this indicates that its price activity is strongly correlated with the market. \n",
    "# Beta < 1, indicates that the security is theoretically less volatile than the market (Ex: Utility stocks). If the stock is included, this will make the portfolio less risky compared to the same portfolio without the stock.\n",
    "# Beta > 1, indicates that the security's price is more volatile than the market. For instance, Tesla stock beta is 1.26 indicating that it's 26% more volatile than the market. \n",
    "# Tech stocks generally have higher betas than S&P500 but they also have excess returns\n",
    "# MGM is 65% more volatile than the S&P500!\n",
    "\n",
    "\n",
    "beta, alpha = np.polyfit(stocks_daily_return['sp500'], stocks_daily_return['TSLA'], 1)\n",
    "print('Beta for {} stock is = {} and alpha is = {}'.format('TSLA', beta, alpha))  "
   ]
  },
  {
   "cell_type": "code",
   "execution_count": null,
   "metadata": {},
   "outputs": [],
   "source": [
    "beta, alpha = np.polyfit(stocks_daily_return['sp500'], stocks_daily_return['MGM'], 1)\n",
    "print('Beta for {} stock is = {} and alpha is = {}'.format('MGM', beta, alpha))  "
   ]
  },
  {
   "cell_type": "code",
   "execution_count": null,
   "metadata": {},
   "outputs": [],
   "source": [
    "#TASK #7: APPLY THE CAPM FORMULA TO AN INDIVIDUAL STOCK"
   ]
  },
  {
   "cell_type": "code",
   "execution_count": null,
   "metadata": {},
   "outputs": [],
   "source": [
    "beta"
   ]
  },
  {
   "cell_type": "code",
   "execution_count": null,
   "metadata": {},
   "outputs": [],
   "source": [
    "# Let's calculate the average daily rate of return for S&P500\n",
    "stocks_daily_return['sp500'].mean()"
   ]
  },
  {
   "cell_type": "code",
   "execution_count": null,
   "metadata": {},
   "outputs": [],
   "source": [
    "# Assume risk free rate is zero\n",
    "# Also you can use the yield of a 10-years U.S. Government bond as a risk free rate\n",
    "rf=0\n",
    "# Calculate return for any security (APPL) using CAPM  \n",
    "ER_TSLA=rf+beta*(rm-rf)"
   ]
  },
  {
   "cell_type": "code",
   "execution_count": null,
   "metadata": {},
   "outputs": [],
   "source": [
    "ER_TSLA"
   ]
  },
  {
   "cell_type": "code",
   "execution_count": null,
   "metadata": {},
   "outputs": [],
   "source": [
    "beta, alpha = np.polyfit(stocks_daily_return['sp500'], stocks_daily_return['BA'], 1)\n",
    "print('Beta for {} stock is = {} and alpha is = {}'.format('BA', beta, alpha))  \n",
    "ER_BA=rf+beta*(rm-rf)\n",
    "ER_BA"
   ]
  },
  {
   "cell_type": "code",
   "execution_count": null,
   "metadata": {},
   "outputs": [],
   "source": [
    "#TASK #8: CALCULATE BETA FOR ALL STOCKS\n",
    "# Let's create a placeholder for all betas and alphas (empty dictionaries)"
   ]
  },
  {
   "cell_type": "code",
   "execution_count": null,
   "metadata": {},
   "outputs": [],
   "source": [
    "# Let's create a placeholder for all betas and alphas (empty dictionaries)\n",
    "beta = {}\n",
    "alpha = {}"
   ]
  },
  {
   "cell_type": "code",
   "execution_count": null,
   "metadata": {},
   "outputs": [],
   "source": [
    "# Loop on every stock daily return\n",
    "for i in stocks_daily_return.columns:\n",
    "     # Ignoring the date and S&P500 Columns \n",
    "    if i != 'Date' and i != 'sp500':\n",
    "        # plot a scatter plot between each individual stock and the S&P500 (Market)\n",
    "        stocks_daily_return.plot(kind = 'scatter', x = 'sp500', y = i, color = 'w')\n",
    "\n",
    "        # Fit a polynomial between each stock and the S&P500 (Poly with order = 1 is a straight line)\n",
    "        b, a = np.polyfit(stocks_daily_return['sp500'], stocks_daily_return[i], 1)\n",
    "\n",
    "        plt.plot(stocks_daily_return['sp500'], b * stocks_daily_return['sp500'] + a, '-', color = 'r')\n",
    "\n",
    "        beta[i] = b\n",
    "\n",
    "        alpha[i] = a\n",
    "\n",
    "        plt.show()"
   ]
  },
  {
   "cell_type": "code",
   "execution_count": null,
   "metadata": {},
   "outputs": [],
   "source": [
    "beta"
   ]
  },
  {
   "cell_type": "code",
   "execution_count": null,
   "metadata": {},
   "outputs": [],
   "source": [
    "# Let's do the same plots but in an interactive way\n",
    "# Explore some wierd points in the dataset: Tesla stock return was at 24% when the S&P500 return was -0.3%!\n",
    "\n",
    "for i in stocks_daily_return.columns:\n",
    "  \n",
    "  if i != 'Date' and i != 'sp500':\n",
    "    \n",
    "    # Use plotly express to plot the scatter plot for every stock vs. the S&P500\n",
    "    fig = px.scatter(stocks_daily_return, x = 'sp500', y = i, title = i)\n",
    "\n",
    "    # Fit a straight line to the data and obtain beta and alpha\n",
    "    b, a = np.polyfit(stocks_daily_return['sp500'], stocks_daily_return[i], 1)\n",
    "    \n",
    "    # Plot the straight line \n",
    "    fig.add_scatter(x = stocks_daily_return['sp500'], y = b*stocks_daily_return['sp500'] + a)\n",
    "    fig.show()"
   ]
  },
  {
   "cell_type": "code",
   "execution_count": null,
   "metadata": {},
   "outputs": [],
   "source": [
    "stocks_df.describe()"
   ]
  },
  {
   "cell_type": "code",
   "execution_count": null,
   "metadata": {},
   "outputs": [],
   "source": [
    "# Fit a polynomial between the selected stock and the S&P500 (Poly with order = 1 is a straight line)\n",
    "beta, alpha = np.polyfit(stocks_daily_return['sp500'], stocks_daily_return['MGM'], 1)\n",
    "print(beta)  \n",
    "# Now let's plot the scatter plot and the straight line on one plot\n",
    "stocks_daily_return.plot(kind = 'scatter', x = 'sp500', y = 'MGM', color = 'w')\n",
    "\n",
    "# Straight line equation with alpha and beta parameters \n",
    "# Straight line equation is y = beta * rm + alpha\n",
    "plt.plot(stocks_daily_return['sp500'], beta * stocks_daily_return['sp500'] + alpha, '-', color = 'r');\n"
   ]
  },
  {
   "cell_type": "code",
   "execution_count": null,
   "metadata": {},
   "outputs": [],
   "source": [
    "beta, alpha = np.polyfit(stocks_daily_return['sp500'], stocks_daily_return['BA'], 1)\n",
    "print('Beta for {} stock is = {}'.format('BA', beta)) "
   ]
  },
  {
   "cell_type": "code",
   "execution_count": null,
   "metadata": {},
   "outputs": [],
   "source": [
    "# Calculate return for BA using CAPM  \n",
    "ER_BA = rf + ( beta * (rm - rf) ) \n",
    "print(ER_BA)"
   ]
  }
 ],
 "metadata": {
  "kernelspec": {
   "display_name": "Python 3",
   "language": "python",
   "name": "python3"
  },
  "language_info": {
   "codemirror_mode": {
    "name": "ipython",
    "version": 3
   },
   "file_extension": ".py",
   "mimetype": "text/x-python",
   "name": "python",
   "nbconvert_exporter": "python",
   "pygments_lexer": "ipython3",
   "version": "3.8.5"
  }
 },
 "nbformat": 4,
 "nbformat_minor": 4
}
